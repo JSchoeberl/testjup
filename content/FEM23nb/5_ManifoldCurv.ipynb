{
 "cells": [
  {
   "cell_type": "markdown",
   "id": "30f4ec89",
   "metadata": {},
   "source": [
    "# Computation of Curvature\n",
    "\n",
    "work with **Michael Neunteufel**, Max Wardetzky and Jay Gopalakrishnan\n",
    "\n",
    "* Given metric tensor $g \\in H(cc)$, compute Riemannian curvature $R(g)$\n",
    "* Compute curvature of a triangulated manifold"
   ]
  },
  {
   "cell_type": "code",
   "execution_count": 1,
   "id": "8e12871f",
   "metadata": {},
   "outputs": [],
   "source": [
    "from netgen.occ import *\n",
    "from netgen import meshing\n",
    "from ngsolve import *\n",
    "from ngsolve.webgui import Draw\n",
    "\n",
    "MESHSURF = meshing.MeshingStep.MESHSURFACE"
   ]
  },
  {
   "cell_type": "markdown",
   "id": "cc6e5fe1",
   "metadata": {},
   "source": [
    "## Curvature on smooth manifolds"
   ]
  },
  {
   "cell_type": "code",
   "execution_count": 6,
   "id": "dc4032a7",
   "metadata": {},
   "outputs": [],
   "source": [
    "sp = Sphere(Pnt(0,0,0), r=1)\n",
    "spmesh = Mesh(OCCGeometry(sp).GenerateMesh(maxh=0.2,perfstepsend=MESHSURF))\n",
    "spmesh.Curve(6);"
   ]
  },
  {
   "cell_type": "markdown",
   "id": "feb73894",
   "metadata": {},
   "source": [
    "Define Gauss curvature from Weingarten tensor:"
   ]
  },
  {
   "cell_type": "code",
   "execution_count": 7,
   "id": "1b1da7bb",
   "metadata": {},
   "outputs": [],
   "source": [
    "nsurf = specialcf.normal(3)\n",
    "GaussCurv = Cof(Grad(nsurf))*nsurf*nsurf"
   ]
  },
  {
   "cell_type": "code",
   "execution_count": 8,
   "id": "d3d060b0",
   "metadata": {},
   "outputs": [
    {
     "data": {
      "application/vnd.jupyter.widget-view+json": {
       "model_id": "50246694881f45cc858befe48d47d5ea",
       "version_major": 2,
       "version_minor": 0
      },
      "text/plain": [
       "WebGuiWidget(layout=Layout(height='50vh', width='100%'), value={'gui_settings': {}, 'ngsolve_version': '6.2.23…"
      ]
     },
     "metadata": {},
     "output_type": "display_data"
    }
   ],
   "source": [
    "Draw (GaussCurv, spmesh, min=0.9, max=1.1);"
   ]
  },
  {
   "cell_type": "markdown",
   "id": "1c913f7d",
   "metadata": {},
   "source": [
    "By Gauss-Bonnet theorem: $\\int_S \\kappa = 4 \\pi$ "
   ]
  },
  {
   "cell_type": "code",
   "execution_count": 9,
   "id": "c10b7650",
   "metadata": {},
   "outputs": [
    {
     "name": "stdout",
     "output_type": "stream",
     "text": [
      "integrated curvature: 0.9999993802292337\n"
     ]
    }
   ],
   "source": [
    "print (\"integrated curvature:\",\n",
    "       Integrate (GaussCurv, spmesh.Boundaries(\".*\")) / (4*pi))"
   ]
  },
  {
   "cell_type": "markdown",
   "id": "578d6a13",
   "metadata": {},
   "source": [
    "## A cylinder has only flat faces:"
   ]
  },
  {
   "cell_type": "code",
   "execution_count": 10,
   "id": "37fe18ca",
   "metadata": {},
   "outputs": [
    {
     "data": {
      "application/vnd.jupyter.widget-view+json": {
       "model_id": "baef611ff5214d0f8c56ab28559fd18a",
       "version_major": 2,
       "version_minor": 0
      },
      "text/plain": [
       "WebGuiWidget(layout=Layout(height='50vh', width='100%'), value={'gui_settings': {}, 'ngsolve_version': '6.2.23…"
      ]
     },
     "metadata": {},
     "output_type": "display_data"
    }
   ],
   "source": [
    "cyl = Cylinder( (0,0,0), Z, r=1, h = 2)\n",
    "cylmesh = Mesh(OCCGeometry(cyl).GenerateMesh(maxh=0.2,perfstepsend=MESHSURF)).Curve(5)\n",
    "Draw (GaussCurv, cylmesh, min=-0.0001, max=0.0001);"
   ]
  },
  {
   "cell_type": "code",
   "execution_count": 11,
   "id": "51418077",
   "metadata": {},
   "outputs": [
    {
     "data": {
      "application/vnd.jupyter.widget-view+json": {
       "model_id": "0141e315277f40fdb471a7d2e1d1d5b7",
       "version_major": 2,
       "version_minor": 0
      },
      "text/plain": [
       "WebGuiWidget(layout=Layout(height='50vh', width='100%'), value={'gui_settings': {}, 'ngsolve_version': '6.2.23…"
      ]
     },
     "metadata": {},
     "output_type": "display_data"
    }
   ],
   "source": [
    "cyl = Cylinder( (0,0,0), Z, r=1, h = 2)\n",
    "cylf = cyl.MakeFillet(cyl.edges, 0.1)\n",
    "cylfmesh = Mesh(OCCGeometry(cylf).GenerateMesh(maxh=0.2,perfstepsend=MESHSURF)).Curve(7)\n",
    "Draw (GaussCurv, cylfmesh);"
   ]
  },
  {
   "cell_type": "code",
   "execution_count": 12,
   "id": "72e21a7e",
   "metadata": {},
   "outputs": [
    {
     "data": {
      "text/plain": [
       "1.0001447484838186"
      ]
     },
     "execution_count": 12,
     "metadata": {},
     "output_type": "execute_result"
    }
   ],
   "source": [
    "Integrate (GaussCurv, cylfmesh.Boundaries(\".*\"), order=10) / (4*pi)"
   ]
  },
  {
   "cell_type": "markdown",
   "id": "a059b7c9",
   "metadata": {},
   "source": [
    "# Edge term: jump of geodesic curvature"
   ]
  },
  {
   "cell_type": "markdown",
   "id": "635ba96a",
   "metadata": {},
   "source": [
    "$$\n",
    "\\kappa_g = \\nu \\cdot \\nabla_t t\n",
    "$$\n",
    "with co-normal vector $\\nu = n_F \\times t_E$"
   ]
  },
  {
   "cell_type": "code",
   "execution_count": 13,
   "id": "0bf5918b",
   "metadata": {},
   "outputs": [],
   "source": [
    "nu = Cross(specialcf.normal(3), specialcf.tangential(3)) \n",
    "edgecurve = specialcf.EdgeCurvature(3)  # nabla_t t\n",
    "GeodesicCurv = nu*edgecurve"
   ]
  },
  {
   "cell_type": "code",
   "execution_count": 14,
   "id": "7a20a042",
   "metadata": {
    "scrolled": false
   },
   "outputs": [
    {
     "name": "stdout",
     "output_type": "stream",
     "text": [
      "integrated curv = 0.9998395298243385\n"
     ]
    },
    {
     "data": {
      "application/vnd.jupyter.widget-view+json": {
       "model_id": "86f882519c9b4ad7ba4a8d6e4a59d656",
       "version_major": 2,
       "version_minor": 0
      },
      "text/plain": [
       "WebGuiWidget(layout=Layout(height='50vh', width='100%'), value={'gui_settings': {}, 'ngsolve_version': '6.2.23…"
      ]
     },
     "metadata": {},
     "output_type": "display_data"
    }
   ],
   "source": [
    "fes = SurfaceL2(cylmesh, order=5)\n",
    "u,v = fes.TnT()\n",
    "f = LinearForm(fes)\n",
    "f += GaussCurv*v*ds(bonus_intorder=8)\n",
    "f += -GeodesicCurv*v*ds(element_boundary=True, bonus_intorder=8)\n",
    "f.Assemble()\n",
    "gfu = GridFunction(fes)\n",
    "mass = BilinearForm(u*v*ds).Assemble().mat\n",
    "gfu.vec.data = mass.Inverse()*f.vec\n",
    "print (\"integrated curv =\", Integrate(gfu, cylmesh.Boundaries(\".*\"))/(4*pi))\n",
    "Draw(gfu);"
   ]
  },
  {
   "cell_type": "markdown",
   "id": "430c297c",
   "metadata": {},
   "source": [
    "# Vertex term: angle deficit"
   ]
  },
  {
   "cell_type": "code",
   "execution_count": 15,
   "id": "6bec1f96",
   "metadata": {},
   "outputs": [
    {
     "name": "stdout",
     "output_type": "stream",
     "text": [
      "integrated curv = 1.0002596199781035\n"
     ]
    },
    {
     "data": {
      "application/vnd.jupyter.widget-view+json": {
       "model_id": "d48603545dbd46a19528b9038ff99d9f",
       "version_major": 2,
       "version_minor": 0
      },
      "text/plain": [
       "WebGuiWidget(layout=Layout(height='50vh', width='100%'), value={'gui_settings': {}, 'ngsolve_version': '6.2.23…"
      ]
     },
     "metadata": {},
     "output_type": "display_data"
    }
   ],
   "source": [
    "cube = Box( (0,0,0), (1,1,1) )\n",
    "cubef = cube.MakeFillet(cube.edges, 0.1)\n",
    "cubefmesh = Mesh(OCCGeometry(cubef).GenerateMesh(maxh=0.2,perfstepsend=meshing.MeshingStep.MESHSURFACE)).Curve(7)\n",
    "print (\"integrated curv =\", Integrate(GaussCurv, cubefmesh.Boundaries(\".*\")) / (4*pi))\n",
    "Draw (GaussCurv, cubefmesh);"
   ]
  },
  {
   "cell_type": "code",
   "execution_count": 16,
   "id": "a7101236",
   "metadata": {},
   "outputs": [
    {
     "name": "stdout",
     "output_type": "stream",
     "text": [
      "integrated curv = 0.9999999999999767\n"
     ]
    },
    {
     "data": {
      "application/vnd.jupyter.widget-view+json": {
       "model_id": "3a688c2d2a9b426c9af56f08de19ab40",
       "version_major": 2,
       "version_minor": 0
      },
      "text/plain": [
       "WebGuiWidget(layout=Layout(height='50vh', width='100%'), value={'gui_settings': {}, 'ngsolve_version': '6.2.23…"
      ]
     },
     "metadata": {},
     "output_type": "display_data"
    }
   ],
   "source": [
    "cube = Box( (0,0,0), (1,1,1) )\n",
    "cubemesh = Mesh(OCCGeometry(cube).GenerateMesh(maxh=0.2,perfstepsend=meshing.MeshingStep.MESHSURFACE)).Curve(7)\n",
    "\n",
    "fes = H1(cubemesh, order=5)\n",
    "u,v = fes.TnT()\n",
    "\n",
    "f = LinearForm(fes)\n",
    "bbndtang  = specialcf.VertexTangentialVectors(3)\n",
    "bbndtang1 = bbndtang[:,0] \n",
    "bbndtang2 = bbndtang[:,1] \n",
    "f += -v*acos(bbndtang1*bbndtang2)*ds(element_vb=BBND)\n",
    "\n",
    "f.Assemble()\n",
    "for i in range(f.space.mesh.nv):\n",
    "    f.vec[i] += 2*pi\n",
    "\n",
    "gfu = GridFunction(fes)\n",
    "mass = BilinearForm(u*v*ds).Assemble().mat\n",
    "gfu.vec.data = mass.Inverse()*f.vec\n",
    "print (\"integrated curv =\", Integrate(gfu, cubemesh.Boundaries(\".*\"))/(4*pi))\n",
    "Draw(gfu);"
   ]
  },
  {
   "cell_type": "markdown",
   "id": "3dd185bd",
   "metadata": {},
   "source": [
    "# All contributions together"
   ]
  },
  {
   "cell_type": "code",
   "execution_count": 17,
   "id": "120977c1",
   "metadata": {},
   "outputs": [
    {
     "data": {
      "application/vnd.jupyter.widget-view+json": {
       "model_id": "9175df1e77494e5981501fb448a818e0",
       "version_major": 2,
       "version_minor": 0
      },
      "text/plain": [
       "WebGuiWidget(layout=Layout(height='50vh', width='100%'), value={'gui_settings': {}, 'ngsolve_version': '6.2.23…"
      ]
     },
     "metadata": {},
     "output_type": "display_data"
    }
   ],
   "source": [
    "sp = Sphere(Pnt(0,0,0), 1)\n",
    "spmesh = Mesh(OCCGeometry(sp).GenerateMesh(maxh=0.3,perfstepsend=MESHSURF))\n",
    "spmesh.Curve(2)\n",
    "Draw (spmesh);"
   ]
  },
  {
   "cell_type": "code",
   "execution_count": 18,
   "id": "a94e75c2",
   "metadata": {
    "scrolled": false
   },
   "outputs": [
    {
     "name": "stdout",
     "output_type": "stream",
     "text": [
      "integrated curv = 1.0000000000015838\n"
     ]
    },
    {
     "data": {
      "application/vnd.jupyter.widget-view+json": {
       "model_id": "0537b7c2dccc43faa2bf58bbdccf170b",
       "version_major": 2,
       "version_minor": 0
      },
      "text/plain": [
       "WebGuiWidget(layout=Layout(height='50vh', width='100%'), value={'gui_settings': {}, 'ngsolve_version': '6.2.23…"
      ]
     },
     "metadata": {},
     "output_type": "display_data"
    }
   ],
   "source": [
    "fes = H1(spmesh, order=2)\n",
    "u,v = fes.TnT()\n",
    "f = LinearForm(fes)\n",
    "f += GaussCurv*v*ds(bonus_intorder=12)\n",
    "f += -GeodesicCurv*v*ds(element_boundary=True, bonus_intorder=12)\n",
    "f += -v*acos(bbndtang1*bbndtang2)*ds(element_vb=BBND)\n",
    "\n",
    "f.Assemble()\n",
    "for i in range(f.space.mesh.nv):\n",
    "    f.vec[i] += 2*pi\n",
    "\n",
    "gfu = GridFunction(fes)\n",
    "mass = BilinearForm(u*v*ds(bonus_intorder=6)).Assemble().mat\n",
    "gfu.vec.data = mass.Inverse()*f.vec\n",
    "print (\"integrated curv =\", Integrate(gfu, spmesh.Boundaries(\".*\"), order=15)/(4*pi))\n",
    "Draw(gfu);"
   ]
  },
  {
   "cell_type": "markdown",
   "id": "2ace1fa2",
   "metadata": {},
   "source": [
    "# Curvatur computation from metric tensor on parameter domain\n",
    "\n",
    "* Evan S. Gawlik: High-order approximation of Gaussian Curvature with Regge finite elements, SINUM '20\n",
    "* Yakov Berchenko-Kogan and Evan S. Gawlik: Finite element approximation of the Levi-Civita connection and its curvature in two dimensions, arXiv 2111.02512\n",
    "* J. Gopalakrishnan, M. Neunteufel, JS, M. Wardetzky: Analysis of curvature approximation via covariant curl and incompatibility for Regge metrics, arXiv 2206.09343"
   ]
  },
  {
   "cell_type": "code",
   "execution_count": 24,
   "id": "ebdb4b33",
   "metadata": {},
   "outputs": [
    {
     "data": {
      "application/vnd.jupyter.widget-view+json": {
       "model_id": "71236bd59d9b4759ad43689f573b65c6",
       "version_major": 2,
       "version_minor": 0
      },
      "text/plain": [
       "WebGuiWidget(layout=Layout(height='50vh', width='100%'), value={'gui_settings': {}, 'ngsolve_version': '6.2.23…"
      ]
     },
     "metadata": {},
     "output_type": "display_data"
    }
   ],
   "source": [
    "from ngsolve import *\n",
    "from ngsolve.webgui import Draw\n",
    "from netgen.geom2d import CSG2d, Circle\n",
    "from math import pi\n",
    "\n",
    "order    = 4\n",
    "addorder = 2\n",
    "\n",
    "geo = CSG2d()\n",
    "circle = Circle(center=(0,0), radius=1.0)\n",
    "geo.Add(circle)\n",
    "\n",
    "mesh = Mesh(geo.GenerateMesh(maxh=0.1))\n",
    "mesh.Curve(10)\n",
    "Draw(mesh);"
   ]
  },
  {
   "cell_type": "code",
   "execution_count": 25,
   "id": "7fe1a3cc",
   "metadata": {},
   "outputs": [
    {
     "data": {
      "application/vnd.jupyter.widget-view+json": {
       "model_id": "9b372df8feeb4b7eae9f02f7383cc5df",
       "version_major": 2,
       "version_minor": 0
      },
      "text/plain": [
       "WebGuiWidget(layout=Layout(height='50vh', width='100%'), value={'gui_settings': {}, 'ngsolve_version': '6.2.23…"
      ]
     },
     "metadata": {},
     "output_type": "display_data"
    }
   ],
   "source": [
    "gfset = GridFunction(H1(mesh,order=order)**3)\n",
    "\n",
    "r = sqrt(x**2+y**2)\n",
    "phi = atan2(y,x)\n",
    "\n",
    "gfset.Interpolate( (cos(phi)*sin(r*pi/2)-x,sin(phi)*sin(r*pi/2)-y,cos(r*pi/2)))\n",
    "\n",
    "gfsetxy = GridFunction(H1(mesh,order=order)**2)\n",
    "gfsetxy.Set ( gfset[0:2] )\n",
    "mesh.SetDeformation(gfsetxy)\n",
    "Draw (gfset[2], mesh, deformation=True)\n",
    "mesh.UnsetDeformation()"
   ]
  },
  {
   "cell_type": "markdown",
   "id": "90157867",
   "metadata": {},
   "source": [
    "Interpolating metric\n",
    "$$\n",
    "C = \\nabla \\varphi^T \\nabla \\varphi\n",
    "$$\n",
    "into a Regge finite element space:"
   ]
  },
  {
   "cell_type": "code",
   "execution_count": 26,
   "id": "fe0dfffe",
   "metadata": {},
   "outputs": [],
   "source": [
    "F = CF( (1,0, 0,1, 0,0),dims=(3,2)) + Grad(gfset)\n",
    "C = F.trans*F\n",
    "\n",
    "fesCC = HCurlCurl(mesh, order=3) \n",
    "gfC = GridFunction(fesCC)\n",
    "gfC.Set(C, dual=True, bonus_intorder=4)   "
   ]
  },
  {
   "cell_type": "code",
   "execution_count": null,
   "id": "03974805",
   "metadata": {},
   "outputs": [],
   "source": [
    "fesR = H1(mesh, order=3)\n",
    "fR = LinearForm(fesR)\n",
    "u,v = fesR.TnT()\n",
    "\n",
    "       \n",
    "# vertex - contributions = angle deficit\n",
    "vertextang  = specialcf.VertexTangentialVectors(2)\n",
    "vt1 = vertextang[:,0]\n",
    "vt2 = vertextang[:,1]\n",
    "\n",
    "fR += v*acos(gfC[vt1,vt2]/sqrt(gfC[vt1,vt1]*gfC[vt2,vt2]))*dx(element_vb=BBND)\n",
    "fR += -v*acos((vt1*vt2)/sqrt((vt1*vt1)*(vt2*vt2)))*dx(element_vb=BBND)\n",
    "\n",
    "t  = specialcf.tangential(2,consistent=True)\n",
    "n = specialcf.normal(2)  \n",
    "edgecurve = specialcf.EdgeCurvature(2)\n",
    "Gamma_tt = gfC.Operator(\"christoffel2\")[t,t,:]\n",
    "fR += v*sqrt(Det(gfC))/gfC[t,t]*n*(Gamma_tt+edgecurve)*dx(element_vb=BND, bonus_intorder=4)\n",
    "\n",
    "\n",
    "Riemann = gfC.Operator(\"Riemann\")\n",
    "fR += 1/sqrt(Det(gfC))*Riemann[0,1,0,1] * v * dx(bonus_intorder=4)\n",
    "\n",
    "fR.Assemble()\n",
    "\n",
    "gfR = GridFunction(fesR)\n",
    "mass = BilinearForm(sqrt(Det(gfC))*u*v*dx(bonus_intorder=4)).Assemble().mat\n",
    "gfR.vec.data = mass.Inverse() * fR.vec\n",
    "Draw (gfR, min=-1.0001, max=-0.9999);"
   ]
  },
  {
   "cell_type": "code",
   "execution_count": null,
   "id": "e187c89a",
   "metadata": {},
   "outputs": [],
   "source": [
    "print (\"total curvature on half-sphere:\", Integrate (gfR, mesh) / pi)"
   ]
  },
  {
   "cell_type": "markdown",
   "id": "6623e77b",
   "metadata": {},
   "source": [
    "## goal: numerics for Einstein equation, solve for an evolving metric in 3+1"
   ]
  },
  {
   "cell_type": "code",
   "execution_count": null,
   "id": "c58c8b43",
   "metadata": {},
   "outputs": [],
   "source": []
  }
 ],
 "metadata": {
  "kernelspec": {
   "display_name": "Python 3 (ipykernel)",
   "language": "python",
   "name": "python3"
  },
  "language_info": {
   "codemirror_mode": {
    "name": "ipython",
    "version": 3
   },
   "file_extension": ".py",
   "mimetype": "text/x-python",
   "name": "python",
   "nbconvert_exporter": "python",
   "pygments_lexer": "ipython3",
   "version": "3.10.11"
  }
 },
 "nbformat": 4,
 "nbformat_minor": 5
}
