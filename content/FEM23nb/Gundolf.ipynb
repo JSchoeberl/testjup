{
 "cells": [
  {
   "cell_type": "markdown",
   "id": "581acee4",
   "metadata": {},
   "source": [
    "###  Happy Birthday, Gundolf !\n",
    "\n",
    "\n",
    "<img src=\"ZulehnerLanger.jpg\" width=\"600\">\n",
    "\n"
   ]
  },
  {
   "cell_type": "code",
   "execution_count": null,
   "id": "cdc8c6bf",
   "metadata": {},
   "outputs": [],
   "source": []
  }
 ],
 "metadata": {
  "kernelspec": {
   "display_name": "Python 3 (ipykernel)",
   "language": "python",
   "name": "python3"
  },
  "language_info": {
   "codemirror_mode": {
    "name": "ipython",
    "version": 3
   },
   "file_extension": ".py",
   "mimetype": "text/x-python",
   "name": "python",
   "nbconvert_exporter": "python",
   "pygments_lexer": "ipython3",
   "version": "3.11.5"
  }
 },
 "nbformat": 4,
 "nbformat_minor": 5
}
