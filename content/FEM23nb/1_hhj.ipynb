{
 "cells": [
  {
   "cell_type": "markdown",
   "metadata": {},
   "source": [
    "Hellan Herrmann Johnson Method\n",
    "====\n",
    "\n",
    "\n",
    "\n",
    "Genuine, but not well known method for $4^{th}$ order problems\n",
    "\n",
    "Hellan 67, Herrmann 67, Johnson 73, Brezzi-Raviart 77, Arnold+Brezzi 85, Comodi 89,\n",
    "Krendl+Rafetseder+Zulehner 16, Chen+Hu+Huang 16, Braess+Pechstein+JS 20\n",
    "\n",
    "Is an arbitrary order ($k \\geq 0$) mixed discretization method on\n",
    "possibly curved, mapped triangular elements.\n",
    "\n",
    "Allows hybridization to obtain a positive definite system matrix,\n",
    "lowest order case corresponds to the Morley element.\n",
    "\n",
    "The (newer) TD-NNS method is tightly connected to the (much older) HHJ method.\n",
    "\n",
    "With D. Braess and A. Pechstein: Prager-Synge type constant-free a posteriori error\n",
    "estimates using $C^0-DG$ and HHJ\n"
   ]
  },
  {
   "cell_type": "markdown",
   "metadata": {},
   "source": [
    "Kirchhoff Plate equation\n",
    "--\n",
    "\n",
    "$\\DeclareMathOperator{\\opdiv}{div}$\n",
    "\n",
    "\n",
    "\n",
    "Find vertical deflection $w$ such that\n",
    "\n",
    "$$\n",
    "\\opdiv \\opdiv \\nabla^2 w = f \\qquad \\text{ + boundary conditions}\n",
    "$$\n",
    "\n",
    "Reduce to second order system with bending moments $\\sigma$:\n",
    "\n",
    "\\begin{eqnarray*}\n",
    "\\sigma - \\nabla^2 w & = & 0 \\\\\n",
    "\\opdiv \\opdiv \\sigma & = & f\n",
    "\\end{eqnarray*}\n",
    "\n",
    "Variational formulation with $\\sigma \\in H(\\opdiv)^{SYM}$ and $w \\in H^1$:\n",
    "\n",
    "$$\n",
    "\\begin{array}{ccccll}\n",
    "\\int \\sigma \\tau & + & \\int \\opdiv \\tau \\, \\nabla w & = & 0 & \\forall \\, \\tau \\\\[0.5em]\n",
    "\\int \\opdiv \\sigma \\nabla v & & & = & \\int f v & \\forall \\, v\n",
    "\\end{array}\n",
    "$$\n",
    "\n",
    "Hellan-Herrmann-Johnson method\n",
    "---\n",
    "\n",
    "Find $\\sigma_h \\in \\Sigma_h \\subset H(\\opdiv \\opdiv)$ and $w_h \\in W_h \\subset H^1$ such that\n",
    "\n",
    "$$\n",
    "\\begin{array}{ccccll}\n",
    "\\int \\sigma_h \\tau & + & \\sum_T \\int_T \\opdiv \\tau \\, \\nabla w_h + \\int_{\\partial T} \\tau_{nt} \\nabla_t w_h & = & 0 & \\forall \\, \\tau \\\\[0.5em]\n",
    "\\sum_T \\int_T \\opdiv \\sigma_h \\nabla v + \\int_{\\partial T} \\sigma_{nt} \\nabla_t v & & & = & \\int f v & \\forall \\, v\n",
    "\\end{array}\n",
    "$$\n",
    "\n",
    "This mixed method satisfies the magic discrete kernel inclusion\n",
    "\n",
    "$$\n",
    "V_{h,0} \\subset V_0\n",
    "$$\n",
    "\n",
    "leading to the best-approximation property of the bending moments $\\sigma$:\n",
    "\n",
    "$$\n",
    "\\| \\sigma - \\sigma_h \\|_{L_2} \\leq \\inf_{\\tau_h \\in \\Sigma_h} \\| \\sigma - \\tau_h \\|_{L_2}  + \\| f - I_h f \\|\n",
    "$$\n",
    "\n",
    "$\\Sigma_h \\subset H(\\opdiv \\opdiv)$... symmetric matrices, piecewise polynomial, continuous nn-component"
   ]
  },
  {
   "cell_type": "code",
   "execution_count": null,
   "metadata": {},
   "outputs": [],
   "source": [
    "from ngsolve import *\n",
    "from ngsolve.webgui import Draw"
   ]
  },
  {
   "cell_type": "code",
   "execution_count": null,
   "metadata": {},
   "outputs": [],
   "source": [
    "mesh = Mesh (unit_square.GenerateMesh(maxh=0.1))"
   ]
  },
  {
   "cell_type": "markdown",
   "metadata": {},
   "source": [
    "Define product finite element space for $H(\\text{div div}) \\times H^1$"
   ]
  },
  {
   "cell_type": "code",
   "execution_count": null,
   "metadata": {},
   "outputs": [],
   "source": [
    "order = 2\n",
    "Sigma = HDivDiv(mesh, order=order)  # dirichlet=\"left|right|top\")\n",
    "W = H1(mesh, order=order+1, dirichlet=\".*\")   # \"bottom|left|right\")\n",
    "X = Sigma * W\n",
    "\n",
    "print (\"ndof-Sigma:\", Sigma.ndof, \", ndof-W:\", W.ndof, \", ndof-X:\", X.ndof)"
   ]
  },
  {
   "cell_type": "markdown",
   "metadata": {},
   "source": [
    "$$A(\\sigma,u; \\tau, v) = a(\\sigma,\\tau) + b(\\sigma,v) + b(\\tau, u)$$\n",
    "with\n",
    "\\begin{eqnarray*}\n",
    "a(\\sigma,\\tau) & = & \\int_\\Omega \\sigma \\tau \\, dx \\\\\n",
    "b(\\sigma, v) & = & \\sum_T \\int_T \\text{div} \\sigma \\, \\nabla v \\, dx - \\int_{\\partial T} \\sigma_n \\nabla_t v \\, ds\n",
    "\\end{eqnarray*}"
   ]
  },
  {
   "cell_type": "code",
   "execution_count": null,
   "metadata": {},
   "outputs": [],
   "source": [
    "sigma, u = X.TrialFunction()\n",
    "tau, v = X.TestFunction()\n",
    "\n",
    "n = specialcf.normal(2)\n",
    "def tang(u): return u-(u*n)*n\n",
    "\n",
    "a = BilinearForm(X, symmetric=True)\n",
    "a += (InnerProduct (sigma, tau) + div(sigma)*grad(v) + div(tau)*grad(u)) * dx\n",
    "a += (-(sigma*n)*tang(grad(v)) - (tau*n)*tang(grad(u)))*dx(element_boundary=True) \n",
    "a.Assemble()\n",
    "\n",
    "f = LinearForm(X)\n",
    "f += 500*v*dx\n",
    "f.Assemble()\n",
    "\n",
    "gfu = GridFunction(X)\n",
    "gfu.vec.data = a.mat.Inverse(X.FreeDofs()) * f.vec"
   ]
  },
  {
   "cell_type": "markdown",
   "metadata": {},
   "source": [
    "the vertical deflection:"
   ]
  },
  {
   "cell_type": "code",
   "execution_count": null,
   "metadata": {},
   "outputs": [],
   "source": [
    "Draw (gfu.components[1]);"
   ]
  },
  {
   "cell_type": "markdown",
   "metadata": {},
   "source": [
    "the bending moments $\\sigma_{xx}$:"
   ]
  },
  {
   "cell_type": "code",
   "execution_count": null,
   "metadata": {},
   "outputs": [],
   "source": [
    "Draw (gfu.components[0][0,0], mesh);"
   ]
  },
  {
   "cell_type": "code",
   "execution_count": null,
   "metadata": {},
   "outputs": [],
   "source": []
  },
  {
   "cell_type": "code",
   "execution_count": null,
   "metadata": {},
   "outputs": [],
   "source": []
  }
 ],
 "metadata": {
  "kernelspec": {
   "display_name": "Python 3 (ipykernel)",
   "language": "python",
   "name": "python3"
  },
  "language_info": {
   "codemirror_mode": {
    "name": "ipython",
    "version": 3
   },
   "file_extension": ".py",
   "mimetype": "text/x-python",
   "name": "python",
   "nbconvert_exporter": "python",
   "pygments_lexer": "ipython3",
   "version": "3.11.5"
  }
 },
 "nbformat": 4,
 "nbformat_minor": 4
}
