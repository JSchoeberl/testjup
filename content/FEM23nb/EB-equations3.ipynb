{
 "cells": [
  {
   "cell_type": "markdown",
   "id": "626065ce",
   "metadata": {},
   "source": [
    "# Einstein-Bianchi equations\n",
    "\n",
    "(work with Edoardo Bonetti)\n",
    "\n",
    "Components of the Weyl-tensor satisfy the Maxwell-like wave equations\n",
    "\n",
    "\\begin{eqnarray*}\n",
    "\\frac{\\partial E}{\\partial t} & = & curl B \\\\\n",
    "\\frac{\\partial B}{\\partial t} & = & curl E\n",
    "\\end{eqnarray*}\n",
    "\n",
    "where $E$ and $B$ are symmetric, traceless, div-free (STD) matrices\n",
    "\n",
    "We choose $E \\in H(cc)$, $B \\in H(cd)$, and $v \\in H(\\operatorname{div})$. Then\n",
    "\n",
    "$$\n",
    "\\left< \\operatorname{curl} E, \\delta B^T \\right>  \\quad \\text{and} \\quad\n",
    "\\left< \\operatorname{div} B, \\delta v \\right> \n",
    "$$\n",
    "are well defined.\n",
    "\n",
    "using hyperbolic evolution for the divergence constraint we obtain the wave equation\n",
    "\n",
    "\n",
    "$$\n",
    "\\frac{d}{dt} \\left( \\begin{array}{c} E \\\\ v \\\\ B \\end{array} \\right) = \n",
    "\\left( \\begin{array}{ccc} \n",
    " & & C^T \\\\\n",
    " & & D \\\\\n",
    " -C & -D^T & \n",
    "\\end{array} \\right)\n",
    "\\left( \\begin{array}{c} E \\\\ v \\\\ B \\end{array} \\right) \n",
    "$$"
   ]
  },
  {
   "cell_type": "code",
   "execution_count": null,
   "id": "8eec9d36",
   "metadata": {},
   "outputs": [],
   "source": [
    "from ngsolve import *\n",
    "from ngsolve.webgui import Draw\n",
    "mesh = Mesh(unit_cube.GenerateMesh(maxh=0.1))"
   ]
  },
  {
   "cell_type": "code",
   "execution_count": null,
   "id": "df192f28",
   "metadata": {},
   "outputs": [],
   "source": [
    "n = specialcf.normal(3)\n",
    "\n",
    "def CurlTHcc2Hcd(E,dH):\n",
    "    return InnerProduct(curl(E).trans, dH)*dx \\\n",
    "       +InnerProduct(Cross(E*n, n), dH*n)*dx(element_boundary= True)\n",
    "\n",
    "def DivHcdHd(B,dv):\n",
    "    return div(B)*dv*dx - B*n*n * dv*n * dx(element_boundary= True)"
   ]
  },
  {
   "cell_type": "code",
   "execution_count": null,
   "id": "bd2526fc",
   "metadata": {},
   "outputs": [],
   "source": [
    "order = 2\n",
    "\n",
    "fescc = HCurlCurl(mesh, order=order)\n",
    "fescd = HCurlDiv(mesh, order=order)\n",
    "fesd = HDiv(mesh, order=order, RT=True)\n",
    "\n",
    "E, dE = fescc.TnT()\n",
    "v, dv = fesd.TnT()\n",
    "B, dB = fescd.TnT()"
   ]
  },
  {
   "cell_type": "code",
   "execution_count": null,
   "id": "f2eb4bab",
   "metadata": {},
   "outputs": [],
   "source": [
    "bfcurlT = BilinearForm(CurlTHcc2Hcd(E, dB)).Assemble()\n",
    "bfdiv = BilinearForm(DivHcdHd(B, dv)).Assemble()"
   ]
  },
  {
   "cell_type": "code",
   "execution_count": null,
   "id": "e62371e3",
   "metadata": {},
   "outputs": [],
   "source": [
    "for e in mesh.edges:\n",
    "    for dof in fescc.GetDofNrs(e):\n",
    "        fescc.couplingtype[dof] = COUPLING_TYPE.WIREBASKET_DOF\n",
    "        \n",
    "massE = BilinearForm(InnerProduct(E,dE)*dx, condense=True)\n",
    "preE = Preconditioner(massE, \"bddc\", block=True, blocktype=\"edgepatch\")\n",
    "massE.Assemble()\n",
    "matE = massE.mat\n",
    "# preE = matE.CreateBlockSmoother(fescc.CreateSmoothingBlocks(blocktype=\"edgepatch\", eliminate_internal=True), GS=False)\n",
    "\n",
    "massEinvSchur = CGSolver (matE, preE)\n",
    "ext = IdentityMatrix()+massE.harmonic_extension\n",
    "extT = IdentityMatrix()+massE.harmonic_extension_trans\n",
    "massEinv =  ext @ massEinvSchur @ extT + massE.inner_solve"
   ]
  },
  {
   "cell_type": "code",
   "execution_count": null,
   "id": "aef6d43f",
   "metadata": {},
   "outputs": [],
   "source": [
    "massB = BilinearForm(InnerProduct(B,dB)*dx, condense=True).Assemble()\n",
    "matB = massB.mat\n",
    "preB = matB.CreateBlockSmoother(fescd.CreateSmoothingBlocks(blocktype=\"facepatch\", eliminate_internal=True), GS=False)\n",
    "# preH = matH.CreateSmoother(fescd.FreeDofs(True), GS=False)\n",
    "\n",
    "massBinvSchur = CGSolver (matB, preB)\n",
    "ext = IdentityMatrix()+massB.harmonic_extension\n",
    "extT = IdentityMatrix()+massB.harmonic_extension_trans\n",
    "massBinv =  ext @ massBinvSchur @ extT + massB.inner_solve"
   ]
  },
  {
   "cell_type": "code",
   "execution_count": null,
   "id": "4b69b4b7",
   "metadata": {},
   "outputs": [],
   "source": [
    "massv = BilinearForm(InnerProduct(v,dv)*dx, condense=True).Assemble()\n",
    "matv = massv.mat\n",
    "# prev = matv.CreateSmoother(fesd.FreeDofs(True), GS=False)\n",
    "prev = matv.CreateBlockSmoother(fesd.CreateSmoothingBlocks(blocktype=\"facepatch\", eliminate_internal=True), GS=False)\n",
    "\n",
    "massvinvSchur = CGSolver (matv, prev)\n",
    "ext = IdentityMatrix()+massv.harmonic_extension\n",
    "extT = IdentityMatrix()+massv.harmonic_extension_trans\n",
    "massvinv =  ext @ massvinvSchur @ extT + massv.inner_solve"
   ]
  },
  {
   "cell_type": "code",
   "execution_count": null,
   "id": "d2018d02",
   "metadata": {},
   "outputs": [],
   "source": [
    "gfE = GridFunction(fescc)\n",
    "gfB = GridFunction(fescd)\n",
    "gfv = GridFunction(fesd)"
   ]
  },
  {
   "cell_type": "code",
   "execution_count": null,
   "id": "d53b48e1",
   "metadata": {},
   "outputs": [],
   "source": [
    "# initial conditions ....\n",
    "gfB.vec[:] = 0.0\n",
    "gfE.vec[:] = 0.0\n",
    "gfv.vec[:] = 0.0\n",
    "\n",
    "peak = exp(-((x-0.5)**2+(y-0.5)**2+(z-0.5)**2)/ 0.2**2 )\n",
    "gfE.Set ( ((peak, 0,0), (0,0,0), (0,0,-peak) ))"
   ]
  },
  {
   "cell_type": "code",
   "execution_count": null,
   "id": "546e35f0",
   "metadata": {},
   "outputs": [],
   "source": [
    "t = 0\n",
    "tend = 10\n",
    "dt = 5e-3\n",
    "scene = Draw(Norm(gfB), mesh, clipping = { \"vec\" : (0,0,-1) }, settings={\"Objects\":{\"Clipping Plane\":True}})\n",
    "energytrace = []\n",
    "with TaskManager(): \n",
    "    while t < tend:\n",
    "        gfE.vec.data += -dt * massEinv@bfcurlT.mat.T * gfB.vec\n",
    "        gfv.vec.data += -dt * massvinv@bfdiv.mat * gfB.vec\n",
    "\n",
    "        hv = bfcurlT.mat * gfE.vec + bfdiv.mat.T * gfv.vec\n",
    "        gfB.vec.data += dt * massBinv * hv\n",
    "        scene.Redraw()\n",
    "    \n",
    "        energytrace.append (Integrate ( Norm (Trace(gfE)), mesh ))\n",
    "        t += dt"
   ]
  },
  {
   "cell_type": "code",
   "execution_count": null,
   "id": "6d4d8b12",
   "metadata": {},
   "outputs": [],
   "source": [
    "import matplotlib.pyplot as plt\n",
    "plt.plot (energytrace)"
   ]
  },
  {
   "cell_type": "code",
   "execution_count": null,
   "id": "41e7dd46",
   "metadata": {},
   "outputs": [],
   "source": []
  },
  {
   "cell_type": "code",
   "execution_count": null,
   "id": "927e2917-1ef2-4e84-8dc6-d94d0ce9bdb7",
   "metadata": {},
   "outputs": [],
   "source": []
  },
  {
   "cell_type": "code",
   "execution_count": null,
   "id": "199319a4-74a7-4125-a2d8-e44638eadc51",
   "metadata": {},
   "outputs": [],
   "source": []
  },
  {
   "cell_type": "code",
   "execution_count": null,
   "id": "fee3f35f-0ba8-4fef-81cd-268c7544e122",
   "metadata": {},
   "outputs": [],
   "source": []
  }
 ],
 "metadata": {
  "kernelspec": {
   "display_name": "Python 3 (ipykernel)",
   "language": "python",
   "name": "python3"
  },
  "language_info": {
   "codemirror_mode": {
    "name": "ipython",
    "version": 3
   },
   "file_extension": ".py",
   "mimetype": "text/x-python",
   "name": "python",
   "nbconvert_exporter": "python",
   "pygments_lexer": "ipython3",
   "version": "3.11.5"
  }
 },
 "nbformat": 4,
 "nbformat_minor": 5
}
