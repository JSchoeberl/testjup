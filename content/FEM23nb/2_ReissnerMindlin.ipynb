{
 "cells": [
  {
   "cell_type": "markdown",
   "id": "457fed37-01bb-4777-8ff1-b56101d75b30",
   "metadata": {},
   "source": [
    "# Reissner Mindlin plates"
   ]
  },
  {
   "cell_type": "code",
   "execution_count": null,
   "id": "6e714b38-7e84-438e-a055-fb7eda509025",
   "metadata": {},
   "outputs": [],
   "source": []
  }
 ],
 "metadata": {
  "kernelspec": {
   "display_name": "Python 3 (ipykernel)",
   "language": "python",
   "name": "python3"
  },
  "language_info": {
   "codemirror_mode": {
    "name": "ipython",
    "version": 3
   },
   "file_extension": ".py",
   "mimetype": "text/x-python",
   "name": "python",
   "nbconvert_exporter": "python",
   "pygments_lexer": "ipython3",
   "version": "3.11.5"
  }
 },
 "nbformat": 4,
 "nbformat_minor": 5
}
